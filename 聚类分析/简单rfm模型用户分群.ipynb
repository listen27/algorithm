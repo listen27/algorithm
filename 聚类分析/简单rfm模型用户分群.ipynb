{
 "cells": [
  {
   "cell_type": "code",
   "execution_count": 8,
   "metadata": {
    "scrolled": true
   },
   "outputs": [
    {
     "data": {
      "text/html": [
       "<div>\n",
       "<style scoped>\n",
       "    .dataframe tbody tr th:only-of-type {\n",
       "        vertical-align: middle;\n",
       "    }\n",
       "\n",
       "    .dataframe tbody tr th {\n",
       "        vertical-align: top;\n",
       "    }\n",
       "\n",
       "    .dataframe thead th {\n",
       "        text-align: right;\n",
       "    }\n",
       "</style>\n",
       "<table border=\"1\" class=\"dataframe\">\n",
       "  <thead>\n",
       "    <tr style=\"text-align: right;\">\n",
       "      <th></th>\n",
       "      <th>user_id</th>\n",
       "      <th>R_days</th>\n",
       "      <th>F_times</th>\n",
       "      <th>M_money</th>\n",
       "    </tr>\n",
       "  </thead>\n",
       "  <tbody>\n",
       "    <tr>\n",
       "      <th>0</th>\n",
       "      <td>1763</td>\n",
       "      <td>1</td>\n",
       "      <td>22</td>\n",
       "      <td>25900</td>\n",
       "    </tr>\n",
       "    <tr>\n",
       "      <th>1</th>\n",
       "      <td>1803</td>\n",
       "      <td>38</td>\n",
       "      <td>12</td>\n",
       "      <td>12290</td>\n",
       "    </tr>\n",
       "    <tr>\n",
       "      <th>2</th>\n",
       "      <td>2330</td>\n",
       "      <td>5</td>\n",
       "      <td>34</td>\n",
       "      <td>49514</td>\n",
       "    </tr>\n",
       "    <tr>\n",
       "      <th>3</th>\n",
       "      <td>3641</td>\n",
       "      <td>85</td>\n",
       "      <td>2</td>\n",
       "      <td>4419</td>\n",
       "    </tr>\n",
       "    <tr>\n",
       "      <th>4</th>\n",
       "      <td>3956</td>\n",
       "      <td>86</td>\n",
       "      <td>2</td>\n",
       "      <td>3368</td>\n",
       "    </tr>\n",
       "  </tbody>\n",
       "</table>\n",
       "</div>"
      ],
      "text/plain": [
       "   user_id  R_days  F_times  M_money\n",
       "0     1763       1       22    25900\n",
       "1     1803      38       12    12290\n",
       "2     2330       5       34    49514\n",
       "3     3641      85        2     4419\n",
       "4     3956      86        2     3368"
      ]
     },
     "execution_count": 8,
     "metadata": {},
     "output_type": "execute_result"
    }
   ],
   "source": [
    "import pandas as pd\n",
    "import numpy as np\n",
    "import matplotlib.pyplot as plt\n",
    "from sklearn.metrics import silhouette_score,calinski_harabaz_score\n",
    "from sklearn import preprocessing\n",
    "from sklearn.cluster import KMeans\n",
    "df = pd.read_csv(r'E:\\BaiduDownload\\统计分析-数据代码\\统计分析\\聚类分析\\RFM.csv',engine='python')\n",
    "df.head()"
   ]
  },
  {
   "cell_type": "code",
   "execution_count": 12,
   "metadata": {},
   "outputs": [
    {
     "name": "stderr",
     "output_type": "stream",
     "text": [
      "C:\\Users\\daxuan\\Anaconda3\\lib\\site-packages\\sklearn\\preprocessing\\data.py:625: DataConversionWarning: Data with input dtype int64 were all converted to float64 by StandardScaler.\n",
      "  return self.partial_fit(X, y)\n",
      "C:\\Users\\daxuan\\Anaconda3\\lib\\site-packages\\sklearn\\base.py:462: DataConversionWarning: Data with input dtype int64 were all converted to float64 by StandardScaler.\n",
      "  return self.fit(X, **fit_params).transform(X)\n"
     ]
    },
    {
     "name": "stdout",
     "output_type": "stream",
     "text": [
      "n_cluster: 2 score: 0.5583251885450722\n",
      "n_cluster: 3 score: 0.553038285628917\n",
      "n_cluster: 4 score: 0.5056415408712496\n",
      "n_cluster: 5 score: 0.5096486423095071\n",
      "n_cluster: 6 score: 0.514306114078716\n",
      "n_cluster: 7 score: 0.4708153118464607\n",
      "n_cluster: 8 score: 0.44968075584828787\n",
      "n_cluster: 9 score: 0.4422019465181188\n"
     ]
    },
    {
     "data": {
      "text/plain": [
       "<matplotlib.legend.Legend at 0x183cc316b38>"
      ]
     },
     "execution_count": 12,
     "metadata": {},
     "output_type": "execute_result"
    },
    {
     "data": {
      "image/png": "[encoded data removed]",
      "text/plain": [
       "<Figure size 432x288 with 2 Axes>"
      ]
     },
     "metadata": {
      "needs_background": "light"
     },
     "output_type": "display_data"
    }
   ],
   "source": [
    "x=df.iloc[:,1:]\n",
    "standard_model =preprocessing.StandardScaler()\n",
    "data = standard_model.fit_transform(x)\n",
    "ch_score = []\n",
    "ss_score = []\n",
    "for i in np.arange(2,10):\n",
    "    model=KMeans(n_clusters=i,max_iter=1000)\n",
    "    model.fit(data)\n",
    "    score=silhouette_score(data,model.labels_)\n",
    "    ch = calinski_harabaz_score(data,model.labels_)\n",
    "    ss_score.append(score)\n",
    "    ch_score.append(ch)\n",
    "    print('n_cluster:',i,'score:',score)\n",
    "fig = plt.figure()\n",
    "ax1 = fig.add_subplot(131)\n",
    "plt.plot(list(range(2,10)),ch_score,label='ch',c='y')\n",
    "plt.title('CH(calinski_harabaz_score)')\n",
    "plt.legend()\n",
    "\n",
    "ax2 = fig.add_subplot(132)\n",
    "plt.plot(list(range(2,10)),ss_score,label='ss',c='b')\n",
    "plt.title('轮廓系数')\n",
    "plt.legend()"
   ]
  },
  {
   "cell_type": "code",
   "execution_count": 23,
   "metadata": {},
   "outputs": [
    {
     "data": {
      "text/html": [
       "<div>\n",
       "<style scoped>\n",
       "    .dataframe tbody tr th:only-of-type {\n",
       "        vertical-align: middle;\n",
       "    }\n",
       "\n",
       "    .dataframe tbody tr th {\n",
       "        vertical-align: top;\n",
       "    }\n",
       "\n",
       "    .dataframe thead th {\n",
       "        text-align: right;\n",
       "    }\n",
       "</style>\n",
       "<table border=\"1\" class=\"dataframe\">\n",
       "  <thead>\n",
       "    <tr style=\"text-align: right;\">\n",
       "      <th></th>\n",
       "      <th>R_days</th>\n",
       "      <th>F_times</th>\n",
       "      <th>M_money</th>\n",
       "      <th>counts</th>\n",
       "    </tr>\n",
       "  </thead>\n",
       "  <tbody>\n",
       "    <tr>\n",
       "      <th>0</th>\n",
       "      <td>-1.415227</td>\n",
       "      <td>1.866686</td>\n",
       "      <td>1.812685</td>\n",
       "      <td>32</td>\n",
       "    </tr>\n",
       "    <tr>\n",
       "      <th>1</th>\n",
       "      <td>0.919326</td>\n",
       "      <td>-0.780060</td>\n",
       "      <td>-0.681217</td>\n",
       "      <td>94</td>\n",
       "    </tr>\n",
       "    <tr>\n",
       "      <th>2</th>\n",
       "      <td>-0.555803</td>\n",
       "      <td>0.183672</td>\n",
       "      <td>0.081466</td>\n",
       "      <td>74</td>\n",
       "    </tr>\n",
       "  </tbody>\n",
       "</table>\n",
       "</div>"
      ],
      "text/plain": [
       "     R_days   F_times   M_money  counts\n",
       "0 -1.415227  1.866686  1.812685      32\n",
       "1  0.919326 -0.780060 -0.681217      94\n",
       "2 -0.555803  0.183672  0.081466      74"
      ]
     },
     "execution_count": 23,
     "metadata": {},
     "output_type": "execute_result"
    }
   ],
   "source": [
    "#取n_cluster=3 比较好\n",
    "model = KMeans(n_clusters=3,max_iter=1000)\n",
    "model.fit(data)\n",
    "label = pd.Series(model.labels_)\n",
    "centers = pd.DataFrame(model.cluster_centers_)\n",
    "result1 = pd.concat([centers,label.value_counts().sort_index(ascending=True)],axis=1)\n",
    "result1.columns = list(x.columns) + ['counts']\n",
    "result1\n",
    "#print(x.columns)"
   ]
  },
  {
   "cell_type": "code",
   "execution_count": 28,
   "metadata": {},
   "outputs": [
    {
     "name": "stdout",
     "output_type": "stream",
     "text": [
      "             user_id     R_days    F_times       M_money\n",
      "labels                                                  \n",
      "0       42499.437500  11.031250  29.906250  32775.125000\n",
      "1       41838.191489  79.627660   3.276596   3135.212766\n",
      "2       45267.635135  36.283784  12.972973  12199.662162\n"
     ]
    }
   ],
   "source": [
    "#将原始数据和聚类结果拼接在一起,得到每个用户的类别\n",
    "result = pd.concat([df,label],axis=1)\n",
    "result.columns = list(df.columns)+['labels']\n",
    "result\n",
    "print(result.groupby(['labels']).agg('mean'))\n",
    "#0类用户M和F很大，R很小，说明是最近活跃，高消费高频率用户\n",
    "#1类用户R最大，F和M均最小，说明是沉默用户，建议进行召回\n",
    "#2类用户三个指标都一般，可以进行多宣传，通过活动多刺激他们消费"
   ]
  }
 ],
 "metadata": {
  "kernelspec": {
   "display_name": "Python 3",
   "language": "python",
   "name": "python3"
  },
  "language_info": {
   "codemirror_mode": {
    "name": "ipython",
    "version": 3
   },
   "file_extension": ".py",
   "mimetype": "text/x-python",
   "name": "python",
   "nbconvert_exporter": "python",
   "pygments_lexer": "ipython3",
   "version": "3.7.1"
  }
 },
 "nbformat": 4,
 "nbformat_minor": 2
}
