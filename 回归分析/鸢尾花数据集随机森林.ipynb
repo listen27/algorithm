{
 "cells": [
  {
   "cell_type": "code",
   "execution_count": 2,
   "metadata": {},
   "outputs": [
    {
     "name": "stdout",
     "output_type": "stream",
     "text": [
      "[[5.1 3.5 1.4 0.2]\n",
      " [4.9 3.  1.4 0.2]\n",
      " [4.7 3.2 1.3 0.2]\n",
      " [4.6 3.1 1.5 0.2]\n",
      " [5.  3.6 1.4 0.2]]\n",
      "[0 0 0 0 0 0 0 0 0 0 0 0 0 0 0 0 0 0 0 0 0 0 0 0 0 0 0 0 0 0 0 0 0 0 0 0 0\n",
      " 0 0 0 0 0 0 0 0 0 0 0 0 0 1 1 1 1 1 1 1 1 1 1 1 1 1 1 1 1 1 1 1 1 1 1 1 1\n",
      " 1 1 1 1 1 1 1 1 1 1 1 1 1 1 1 1 1 1 1 1 1 1 1 1 1 1 2 2 2 2 2 2 2 2 2 2 2\n",
      " 2 2 2 2 2 2 2 2 2 2 2 2 2 2 2 2 2 2 2 2 2 2 2 2 2 2 2 2 2 2 2 2 2 2 2 2 2\n",
      " 2 2]\n",
      "['sepal length (cm)', 'sepal width (cm)', 'petal length (cm)', 'petal width (cm)']\n",
      "   sepal length (cm)  sepal width (cm)  petal length (cm)  petal width (cm)\n",
      "0                5.1               3.5                1.4               0.2\n",
      "1                4.9               3.0                1.4               0.2\n",
      "2                4.7               3.2                1.3               0.2\n",
      "3                4.6               3.1                1.5               0.2\n",
      "4                5.0               3.6                1.4               0.2\n"
     ]
    }
   ],
   "source": [
    "%matplotlib inline\n",
    "import pandas as pd\n",
    "import numpy as np\n",
    "import matplotlib.pyplot as plt\n",
    "from sklearn import datasets\n",
    "\n",
    "iris=datasets.load_iris()#读取进来是一个array类型\n",
    "\n",
    "print(iris.data[:5])\n",
    "print(iris.target)\n",
    "print(iris.feature_names)\n",
    "df=pd.DataFrame(data=iris.data,columns=iris.feature_names)\n",
    "print(df.head())"
   ]
  },
  {
   "cell_type": "code",
   "execution_count": 3,
   "metadata": {},
   "outputs": [
    {
     "data": {
      "text/plain": [
       "<matplotlib.collections.PathCollection at 0x2a130edcda0>"
      ]
     },
     "execution_count": 3,
     "metadata": {},
     "output_type": "execute_result"
    },
    {
     "data": {
      "image/png": "[encoded data removed]",
      "text/plain": [
       "<Figure size 504x504 with 2 Axes>"
      ]
     },
     "metadata": {
      "needs_background": "light"
     },
     "output_type": "display_data"
    }
   ],
   "source": [
    "fig,ax=plt.subplots(1,2,figsize=(7,7))#只有一行，则ax索引一个维度就行\n",
    "ax[0].scatter(df['sepal length (cm)'][:50],df['sepal width (cm)'][:50])\n",
    "ax[1].scatter(df['petal length (cm)'][:50],df['petal width (cm)'][:50])"
   ]
  },
  {
   "cell_type": "code",
   "execution_count": 5,
   "metadata": {},
   "outputs": [
    {
     "name": "stdout",
     "output_type": "stream",
     "text": [
      "[0 1 2 0 1 1 2 0 2 0 1 2 0 0 1 1 2 2 1 2 2 2 2 2 1 0 0 1 1 0 2 2 2 1 1 2 2\n",
      " 0 2 0 1 2 2 0 0]\n",
      "[0 1 1 0 1 1 1 0 2 0 1 2 0 0 1 1 2 2 1 1 2 1 2 2 1 0 0 1 1 0 2 2 2 1 1 2 2\n",
      " 0 2 0 1 2 2 0 0]\n",
      "[(0, 0), (1, 1), (2, 1), (0, 0), (1, 1), (1, 1), (2, 1), (0, 0), (2, 2), (0, 0), (1, 1), (2, 2), (0, 0), (0, 0), (1, 1), (1, 1), (2, 2), (2, 2), (1, 1), (2, 1), (2, 2), (2, 1), (2, 2), (2, 2), (1, 1), (0, 0), (0, 0), (1, 1), (1, 1), (0, 0), (2, 2), (2, 2), (2, 2), (1, 1), (1, 1), (2, 2), (2, 2), (0, 0), (2, 2), (0, 0), (1, 1), (2, 2), (2, 2), (0, 0), (0, 0)]\n",
      "0.9111111111111111\n",
      "[0.14042679 0.04495236 0.40700609 0.40761476]\n"
     ]
    }
   ],
   "source": [
    "#随机森林\n",
    "from sklearn.ensemble import RandomForestClassifier\n",
    "from sklearn.model_selection import train_test_split#sklearn中已经废弃cross_validation,将其中的内容整合到model_selection中将sklearn.cross_validation 替换为 sklearn.model_selection\n",
    "rfc=RandomForestClassifier(max_depth=5,n_estimators=10)\n",
    "x=df\n",
    "y=iris.target\n",
    "xtrain,xtest,ytrain,ytest=train_test_split(x,y,test_size=0.3)\n",
    "#print(xtrain)\n",
    "rfc.fit(xtrain,ytrain)\n",
    "ypred=rfc.predict(xtest)\n",
    "print(ypred)\n",
    "print(ytest)\n",
    "print(list(zip(ypred,ytest)))\n",
    "rf=pd.DataFrame(list(zip(ypred,ytest)),columns=['pred','real'])\n",
    "rf['correct']=rf.apply(lambda r:1 if r['pred']==r['real'] else 0,axis=1 )\n",
    "#print(rf)\n",
    "print(rf['correct'].sum()/rf['correct'].count())\n",
    "print(rfc.feature_importances_)"
   ]
  },
  {
   "cell_type": "code",
   "execution_count": 8,
   "metadata": {},
   "outputs": [
    {
     "name": "stdout",
     "output_type": "stream",
     "text": [
      "[0 1 0 2 2 2 1 0 0 2 2 2 1 0 2 0 1 2 0 1 2 2 1 0 1 2 2 2 1 2 1 1 2 2 2 0 0\n",
      " 0 2 1 2 1 2 1 0]\n",
      "[0 1 0 2 2 2 1 0 0 2 1 2 1 0 2 0 1 2 0 1 2 2 1 0 1 2 2 2 1 2 1 1 2 2 1 0 0\n",
      " 0 2 1 2 1 2 1 0]\n",
      "0.9555555555555556\n"
     ]
    }
   ],
   "source": [
    "#决策树\n",
    "from sklearn import tree\n",
    "from sklearn.model_selection import train_test_split\n",
    "clf=tree.DecisionTreeClassifier()\n",
    "x=df\n",
    "y=iris.target\n",
    "xtrain,xtest,ytrain,ytest=train_test_split(x,y,test_size=0.3)\n",
    "clf.fit(xtrain,ytrain)\n",
    "ypred=clf.predict(xtest)\n",
    "print(ypred)\n",
    "print(ytest)\n",
    "rf=pd.DataFrame(list(zip(ypred,ytest)),columns=['pred','test'])\n",
    "#print(rf)\n",
    "rf['correct']=rf.apply(lambda r: 1 if r['pred']==r['test'] else 0,axis=1)\n",
    "print(rf['correct'].sum()/rf['correct'].count())"
   ]
  },
  {
   "cell_type": "code",
   "execution_count": null,
   "metadata": {},
   "outputs": [],
   "source": []
  }
 ],
 "metadata": {
  "kernelspec": {
   "display_name": "Python 3",
   "language": "python",
   "name": "python3"
  },
  "language_info": {
   "codemirror_mode": {
    "name": "ipython",
    "version": 3
   },
   "file_extension": ".py",
   "mimetype": "text/x-python",
   "name": "python",
   "nbconvert_exporter": "python",
   "pygments_lexer": "ipython3",
   "version": "3.7.1"
  }
 },
 "nbformat": 4,
 "nbformat_minor": 2
}
