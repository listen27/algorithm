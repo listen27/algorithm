{
 "cells": [
  {
   "cell_type": "markdown",
   "metadata": {},
   "source": [
    "学习点：\n",
    "\n",
    "特征处理方法：《数据挖掘导论P32》\n",
    "    \n",
    "    特征子集选择：嵌入、过滤和包装方法,简单的比如选择特征之间相关度比较低的特征\n",
    "    特征创建：特征提取、映射数据到新的空间（如傅里叶变换，小波变换）、特征构造，比如长*宽*高=体积\n",
    "    \n",
    "降维方法：\n",
    "\n",
    "    主成分分析：PCA（原理在笔记本）无监督\n",
    "    线性判别分析：LDA(原理在笔记本）有监督\n",
    "    \n",
    "注意点：\n",
    "\n",
    "    1.对于特征数不多的其实可以不用降维，直接自己用日常常识结合特征间的相关性进行特征工程就行，不用刻意迷信降维算法。但在对时间和内存有要求的场景可以用，如果降维后准确率不受太大影响的话。\n",
    "    2.进行主成分分析时，可以的话应对变量进行大致分类处理，将同一类型或衡量统一方面的指标归为一类，在分类的基础上进行研究\n",
    "   "
   ]
  },
  {
   "cell_type": "code",
   "execution_count": 14,
   "metadata": {},
   "outputs": [
    {
     "data": {
      "text/plain": [
       "array([0.9909, 0.0083, 0.0007, 0.    , 0.    , 0.    , 0.    , 0.    ,\n",
       "       0.    , 0.    ])"
      ]
     },
     "execution_count": 14,
     "metadata": {},
     "output_type": "execute_result"
    }
   ],
   "source": [
    "import pandas as pd\n",
    "import numpy as np\n",
    "import matplotlib.pyplot as plt\n",
    "from sklearn.decomposition import PCA\n",
    "\n",
    "%matplotlib inline\n",
    "pd.set_option('display.max_columns',None)\n",
    "df=pd.read_csv(r'E:\\BaiduDownload\\天池大赛数据\\二手车预测\\used_car_train_20200313.csv',engine='python',sep=' ')\n",
    "df=df.dropna(subset=['model','bodyType','bodyType','fuelType','gearbox'])\n",
    "num_col = df.select_dtypes(exclude='object').columns\n",
    "feature_col = [col for col in num_col if col not in ['SaleID','name','regDate','creatDate','seller','offerType','price']]\n",
    "x=df[feature_col]\n",
    "ydata=df['price']\n",
    "ydata_ln = np.log(ydata+1)\n",
    "pca = PCA(n_components=10)\n",
    "xd = pca.fit_transform(x)\n",
    "np.set_printoptions(precision=4,suppress=True)#设置浮点精度，True用固定点打印浮点数符号，当前精度中的数字等于零将打印为零。False用科学记数法；最小数绝对值是<1e-4或比率最大绝对值> 1e3。默认值False\n",
    "pca.explained_variance_ratio_\n",
    "\n",
    "\n"
   ]
  },
  {
   "cell_type": "code",
   "execution_count": 13,
   "metadata": {},
   "outputs": [
    {
     "name": "stdout",
     "output_type": "stream",
     "text": [
      "0.1799245849096157\n"
     ]
    }
   ],
   "source": [
    "from sklearn.model_selection import train_test_split,cross_val_score\n",
    "from sklearn.ensemble import RandomForestRegressor\n",
    "from sklearn.metrics import mean_absolute_error\n",
    "xtrain,xtest,ytrain,ytest=train_test_split(xd,ydata_ln,test_size=0.3)\n",
    "rf = RandomForestRegressor(n_estimators=10)\n",
    "rf.fit(xtrain,ytrain)\n",
    "ypred_rf = rf.predict(xtest)\n",
    "mse_rf = mean_absolute_error(ytest,ypred_rf)\n",
    "print(mse_rf)"
   ]
  },
  {
   "cell_type": "code",
   "execution_count": 19,
   "metadata": {},
   "outputs": [
    {
     "name": "stderr",
     "output_type": "stream",
     "text": [
      "C:\\Users\\daxuan\\Anaconda3\\lib\\site-packages\\sklearn\\discriminant_analysis.py:388: UserWarning: Variables are collinear.\n",
      "  warnings.warn(\"Variables are collinear.\")\n"
     ]
    }
   ],
   "source": [
    "from sklearn.discriminant_analysis import LinearDiscriminantAnalysis as lda\n",
    "LDA = lda(n_components=10)\n",
    "x_lda = LDA.fit_transform(x,ydata_ln.astype('int'))"
   ]
  },
  {
   "cell_type": "code",
   "execution_count": 20,
   "metadata": {},
   "outputs": [
    {
     "name": "stdout",
     "output_type": "stream",
     "text": [
      "0.1835487901237732\n"
     ]
    }
   ],
   "source": [
    "from sklearn.model_selection import train_test_split,cross_val_score\n",
    "from sklearn.ensemble import RandomForestRegressor\n",
    "from sklearn.metrics import mean_absolute_error\n",
    "xtrain,xtest,ytrain,ytest=train_test_split(x_lda,ydata_ln,test_size=0.3)\n",
    "rf = RandomForestRegressor(n_estimators=10)\n",
    "rf.fit(xtrain,ytrain)\n",
    "ypred_rf = rf.predict(xtest)\n",
    "mse_rf = mean_absolute_error(ytest,ypred_rf)\n",
    "print(mse_rf)"
   ]
  },
  {
   "cell_type": "code",
   "execution_count": null,
   "metadata": {},
   "outputs": [],
   "source": []
  }
 ],
 "metadata": {
  "kernelspec": {
   "display_name": "Python 3",
   "language": "python",
   "name": "python3"
  },
  "language_info": {
   "codemirror_mode": {
    "name": "ipython",
    "version": 3
   },
   "file_extension": ".py",
   "mimetype": "text/x-python",
   "name": "python",
   "nbconvert_exporter": "python",
   "pygments_lexer": "ipython3",
   "version": "3.7.1"
  }
 },
 "nbformat": 4,
 "nbformat_minor": 2
}
