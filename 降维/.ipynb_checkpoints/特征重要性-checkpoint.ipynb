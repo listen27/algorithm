{
 "cells": [
  {
   "cell_type": "markdown",
   "metadata": {},
   "source": [
    "利用机器学习计算各特征的权重\n",
    "\n",
    "    1.随机森林：feature_importances_方法可直接输出各变量的特征重要性\n",
    "    2.线性回归中的coef_()函数，表示线性函数中的权重，比如g(x) = w1x1 + w2x2 + w3x3 + w4x4 + w0中的w1-w4\n",
    "    https://zhuanlan.zhihu.com/p/64759172"
   ]
  }
 ],
 "metadata": {
  "kernelspec": {
   "display_name": "Python 3",
   "language": "python",
   "name": "python3"
  },
  "language_info": {
   "codemirror_mode": {
    "name": "ipython",
    "version": 3
   },
   "file_extension": ".py",
   "mimetype": "text/x-python",
   "name": "python",
   "nbconvert_exporter": "python",
   "pygments_lexer": "ipython3",
   "version": "3.7.1"
  }
 },
 "nbformat": 4,
 "nbformat_minor": 2
}
